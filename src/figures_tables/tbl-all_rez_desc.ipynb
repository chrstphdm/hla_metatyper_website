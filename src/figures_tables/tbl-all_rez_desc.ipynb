{
  "cells": [
    {
      "cell_type": "raw",
      "metadata": {},
      "source": [
        "---\n",
        "title: ''\n",
        "execute:\n",
        "  echo: false\n",
        "cap-location: bottom\n",
        "format:\n",
        "  html:\n",
        "    page-layout: full\n",
        "  pdf:\n",
        "    pdf-engine: lualatex\n",
        "    mainfont: Open Sans\n",
        "    sansfont: Open Sans\n",
        "    pagestyle: empty\n",
        "    include-in-header:\n",
        "      text: |\n",
        "        \\usepackage[top=5mm, left=5mm, right=5mm, bottom=5mm]{geometry}\n",
        "        \\usepackage{lscape}\n",
        "        \\newcommand{\\blandscape}{\\begin{landscape}}\n",
        "        \\newcommand{\\elandscape}{\\end{landscape}}\n",
        "---"
      ],
      "id": "b8384824"
    },
    {
      "cell_type": "markdown",
      "metadata": {},
      "source": [
        "\\blandscape\n"
      ],
      "id": "2f002716"
    },
    {
      "cell_type": "code",
      "metadata": {},
      "source": [
        "#| label: tbl-all_rez_desc\n",
        "#| tbl-cap: 'Description of the content of the merged file, by gene. No changes in the results of the algorithms have been made. The number of calls available (HISATgenotype calls, HLA-HD calls & T1K calls) represents the number of non-null results available for each algorithm. The number of unique alleles for each algorithm is the number of alleles found at least once by each algorithm. The percentage of concordant calls is calculated in relation to the total number of samples in this study (14,669). According to the N-1 algorithm which will be described later, a matching call corresponds to 2 or 3 identical calls between the 3 algorithms to which are added the alleles classified as hemizygotes'\n",
        "import pandas\n",
        "import numpy as np\n",
        "from IPython.display import Markdown, display\n",
        "def printmd(string):\n",
        "    display(Markdown(string))\n",
        "\n",
        "def tbl_all_rez_desc():\n",
        "  rez = pandas.read_csv('data/OUTPUT/5.N_1_RESULTS/all_results.csv')\n",
        "  genes_list = sorted(rez.gene.unique().tolist())\n",
        "\n",
        "\n",
        "  markdown_text=\"| Gene | HISAT calls |  HLAHD calls | T1K calls | HISAT unique alleles | HLAHD unique alleles | T1K unique alleles| Concordant calls (%) |\\n\"\n",
        "  markdown_text+=\"| --- | --- | --- | --- | --- | --- | --- | --- |\\n\"\n",
        "\n",
        "  for n,gene in enumerate(genes_list ):\n",
        "    current_gene_rez = rez.query(\"gene == @gene\")\n",
        "\n",
        "    hisat_rez = current_gene_rez.loc[~current_gene_rez['hisat_genotype'].isna()]\n",
        "    hlahd_rez = current_gene_rez.loc[~current_gene_rez['hlahd_genotype'].isna()]\n",
        "    t1k_rez = current_gene_rez.loc[~current_gene_rez['t1k_genotype'].isna()]\n",
        "\n",
        "    ## nb available calls\n",
        "    hisat_calls = hisat_rez.shape[0]\n",
        "    hlahd_calls = hlahd_rez.shape[0]\n",
        "    t1k_calls = t1k_rez.shape[0]\n",
        "\n",
        "    ## number of unique alleles\n",
        "    hisat_allele_col_split = hisat_rez.hisat_alleles.str.split('_', expand=True)\n",
        "    hisat_unique_alleles = pandas.concat([hisat_allele_col_split[0], hisat_allele_col_split[1]], axis=0).nunique()\n",
        "    hlahd_allele_col_split = hlahd_rez.hlahd_alleles.str.split('_', expand=True)\n",
        "    hlahd_unique_alleles = pandas.concat([hlahd_allele_col_split[0], hlahd_allele_col_split[1]], axis=0).nunique() if hlahd_calls > 0 else 0\n",
        "    t1k_allele_col_split = t1k_rez.t1k_alleles.str.split('_', expand=True)\n",
        "    t1k_unique_alleles = pandas.concat([t1k_allele_col_split[0], t1k_allele_col_split[1]], axis=0).nunique()\n",
        "\n",
        "    ## discordant_calls\n",
        "    discordant_calls = current_gene_rez.loc[current_gene_rez['comparison_int'] == 0].shape[0]\n",
        "    ## n_1_calls\n",
        "    n_1_calls = current_gene_rez.loc[(current_gene_rez['comparison_int'] > 0) & (current_gene_rez['comparison_int'] < 7)].shape[0]\n",
        "    ## all_concordant_calls\n",
        "    all_concordant_calls = current_gene_rez.loc[current_gene_rez['comparison_int'] == 7].shape[0]\n",
        "    ## to_determine_calls\n",
        "    to_determine_calls = (current_gene_rez.shape[0] - all_concordant_calls - n_1_calls) / 14669 *100\n",
        "    ## concordant_calls\n",
        "    concordant_calls = current_gene_rez.loc[\n",
        "        (current_gene_rez['comparison_int'] != 0) | \n",
        "        ( \n",
        "          (current_gene_rez.sorted_freq_alleles.str.contains('0#NA')) & (current_gene_rez.sorted_freq_alleles.str.contains('3#')) \n",
        "        )\n",
        "      ].shape[0]\n",
        "\n",
        "    # df.loc[gene] = [hisat_calls,hlahd_calls,t1k_calls,hisat_unique_alleles,hlahd_unique_alleles,t1k_unique_alleles,discordant_calls,n_1_calls,all_concordant_calls,to_determine_calls]\n",
        "    markdown_text+=f\"|{gene}|{hisat_calls}|{hlahd_calls}|{t1k_calls}|{hisat_unique_alleles}|{hlahd_unique_alleles}|{t1k_unique_alleles}|{concordant_calls} ({concordant_calls/14669 *100:.2f})|\\n\"\n",
        "\n",
        "  # Markdown(df.to_markdown())\n",
        "  # display(Markdown(df.to_markdown()))\n",
        "  printmd(markdown_text)\n",
        "tbl_all_rez_desc()"
      ],
      "id": "tbl-all_rez_desc",
      "execution_count": null,
      "outputs": []
    },
    {
      "cell_type": "markdown",
      "metadata": {},
      "source": [
        "\\elandscape"
      ],
      "id": "615cc0c4"
    }
  ],
  "metadata": {
    "kernelspec": {
      "name": "python3",
      "language": "python",
      "display_name": "Python 3 (ipykernel)"
    }
  },
  "nbformat": 4,
  "nbformat_minor": 5
}